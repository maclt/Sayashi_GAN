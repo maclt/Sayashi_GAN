{
 "cells": [
  {
   "cell_type": "code",
   "execution_count": null,
   "metadata": {},
   "outputs": [],
   "source": [
    "from bs4 import BeautifulSoup\n",
    "from urllib.request import urlopen\n",
    "import html5lib\n",
    "from time import sleep\n",
    "for i in range(1,105):\n",
    "    html = urlopen(\"https://ameblo.jp/sayumimichishige-blog/entrylist-\" + str(i) +\".html\")\n",
    "    data = html.read()\n",
    "    html = data.decode('utf-8')\n",
    "\n",
    "    soup = BeautifulSoup(html, 'html5lib')\n",
    "\n",
    "    imgs = soup.find_all(\"img\")\n",
    "    for img in imgs[2:41:2]:\n",
    "        print(img.attrs[\"src\"])\n",
    "        a = urlopen(img.attrs[\"src\"]).read()\n",
    "        with open(\"sayumi\"+img.attrs[\"src\"][-20:-12]+\".jpg\", mode=\"wb\") as f:\n",
    "            f.write(a)\n",
    "            sleep(2)"
   ]
  }
 ],
 "metadata": {
  "kernelspec": {
   "display_name": "Python 3",
   "language": "python",
   "name": "python3"
  },
  "language_info": {
   "codemirror_mode": {
    "name": "ipython",
    "version": 3
   },
   "file_extension": ".py",
   "mimetype": "text/x-python",
   "name": "python",
   "nbconvert_exporter": "python",
   "pygments_lexer": "ipython3",
   "version": "3.6.6"
  }
 },
 "nbformat": 4,
 "nbformat_minor": 2
}
